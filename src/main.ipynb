{
 "cells": [
  {
   "cell_type": "code",
   "execution_count": 1,
   "metadata": {},
   "outputs": [],
   "source": [
    "import pandas as pd\n",
    "\n",
    "train_data = pd.read_csv(\"../data/train.csv\")\n",
    "test_data = pd.read_csv(\"../data/test.csv\")"
   ]
  },
  {
   "cell_type": "code",
   "execution_count": 2,
   "metadata": {},
   "outputs": [
    {
     "name": "stdout",
     "output_type": "stream",
     "text": [
      "X_train.shape = (20930, 784), X_test.shape = (8970, 784), y_train.shape = (20930,), y_test.shape = (8970,)\n"
     ]
    }
   ],
   "source": [
    "X_train, y_train = (train_data.iloc[:, 1:] / 255).to_numpy(), train_data[\"labels\"].to_numpy()\n",
    "X_test, y_test = (test_data.iloc[:, 1:] / 255).to_numpy(), test_data[\"labels\"].to_numpy()\n",
    "\n",
    "print(f\"{X_train.shape = }, {X_test.shape = }, {y_train.shape = }, {y_test.shape = }\")"
   ]
  },
  {
   "cell_type": "code",
   "execution_count": 3,
   "metadata": {},
   "outputs": [],
   "source": [
    "from tensorflow.keras.models import Sequential\n",
    "from tensorflow.keras.layers import Dense, Input\n",
    "\n",
    "model = Sequential([\n",
    "    Input(shape=(784,)),\n",
    "    Dense(32, activation=\"relu\"),\n",
    "    Dense(10, activation=\"softmax\")\n",
    "])\n",
    "\n",
    "model.compile(optimizer=\"adam\", loss=\"sparse_categorical_crossentropy\", metrics=[\"accuracy\"])"
   ]
  },
  {
   "cell_type": "code",
   "execution_count": 4,
   "metadata": {},
   "outputs": [
    {
     "name": "stdout",
     "output_type": "stream",
     "text": [
      "Epoch 1/3\n",
      "\u001b[1m655/655\u001b[0m \u001b[32m━━━━━━━━━━━━━━━━━━━━\u001b[0m\u001b[37m\u001b[0m \u001b[1m1s\u001b[0m 1ms/step - accuracy: 0.8328 - loss: 0.6960 - val_accuracy: 0.9552 - val_loss: 0.1647\n",
      "Epoch 2/3\n",
      "\u001b[1m655/655\u001b[0m \u001b[32m━━━━━━━━━━━━━━━━━━━━\u001b[0m\u001b[37m\u001b[0m \u001b[1m1s\u001b[0m 948us/step - accuracy: 0.9625 - loss: 0.1501 - val_accuracy: 0.9637 - val_loss: 0.1377\n",
      "Epoch 3/3\n",
      "\u001b[1m655/655\u001b[0m \u001b[32m━━━━━━━━━━━━━━━━━━━━\u001b[0m\u001b[37m\u001b[0m \u001b[1m1s\u001b[0m 979us/step - accuracy: 0.9707 - loss: 0.1176 - val_accuracy: 0.9695 - val_loss: 0.1160\n"
     ]
    },
    {
     "data": {
      "text/plain": [
       "<keras.src.callbacks.history.History at 0x234452f8250>"
      ]
     },
     "execution_count": 4,
     "metadata": {},
     "output_type": "execute_result"
    }
   ],
   "source": [
    "model.fit(X_train, y_train, epochs=3, validation_data=(X_test, y_test))"
   ]
  },
  {
   "cell_type": "code",
   "execution_count": 5,
   "metadata": {},
   "outputs": [
    {
     "name": "stdout",
     "output_type": "stream",
     "text": [
      "Test label:       8\n",
      "Model prediction: 8\n",
      "\n",
      "Test label:       1\n",
      "Model prediction: 1\n",
      "\n",
      "Test label:       3\n",
      "Model prediction: 3\n",
      "\n",
      "Test label:       4\n",
      "Model prediction: 4\n",
      "\n",
      "Test label:       5\n",
      "Model prediction: 5\n",
      "\n",
      "Test label:       4\n",
      "Model prediction: 4\n",
      "\n",
      "Test label:       3\n",
      "Model prediction: 3\n",
      "\n",
      "Test label:       4\n",
      "Model prediction: 4\n",
      "\n",
      "Test label:       8\n",
      "Model prediction: 8\n",
      "\n",
      "Test label:       7\n",
      "Model prediction: 1\n",
      "\n"
     ]
    }
   ],
   "source": [
    "import numpy\n",
    "\n",
    "for i in range(0, 50, 5):\n",
    "    print(f'Test label:       {y_test[i]}')\n",
    "    model_prediction = numpy.argmax(model.predict(X_test[i].reshape(1, 784), verbose=0))\n",
    "    print(f'Model prediction: {model_prediction}\\n')\n"
   ]
  },
  {
   "cell_type": "code",
   "execution_count": null,
   "metadata": {},
   "outputs": [],
   "source": []
  }
 ],
 "metadata": {
  "kernelspec": {
   "display_name": "Python 3",
   "language": "python",
   "name": "python3"
  },
  "language_info": {
   "codemirror_mode": {
    "name": "ipython",
    "version": 3
   },
   "file_extension": ".py",
   "mimetype": "text/x-python",
   "name": "python",
   "nbconvert_exporter": "python",
   "pygments_lexer": "ipython3",
   "version": "3.11.0"
  }
 },
 "nbformat": 4,
 "nbformat_minor": 2
}
